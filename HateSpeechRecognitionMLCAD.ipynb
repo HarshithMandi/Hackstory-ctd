{
 "cells": [
  {
   "cell_type": "markdown",
   "id": "3741dfe6",
   "metadata": {},
   "source": [
    "**HackStory Hackathon 2023**"
   ]
  },
  {
   "cell_type": "markdown",
   "id": "4ee9d130",
   "metadata": {},
   "source": [
    "**HATE SPEECH RECOGNITION**"
   ]
  },
  {
   "cell_type": "code",
   "execution_count": 10,
   "id": "acc4a2c0",
   "metadata": {},
   "outputs": [
    {
     "name": "stdout",
     "output_type": "stream",
     "text": [
      "   Unnamed: 0  count  hate_speech  offensive_language  neither  class  \\\n",
      "0           0      3            0                   0        3      2   \n",
      "1           1      3            0                   3        0      1   \n",
      "2           2      3            0                   3        0      1   \n",
      "3           3      3            0                   2        1      1   \n",
      "4           4      6            0                   6        0      1   \n",
      "\n",
      "                                               tweet  \n",
      "0  !!! RT @mayasolovely: As a woman you shouldn't...  \n",
      "1  !!!!! RT @mleew17: boy dats cold...tyga dwn ba...  \n",
      "2  !!!!!!! RT @UrKindOfBrand Dawg!!!! RT @80sbaby...  \n",
      "3  !!!!!!!!! RT @C_G_Anderson: @viva_based she lo...  \n",
      "4  !!!!!!!!!!!!! RT @ShenikaRoberts: The shit you...  \n"
     ]
    }
   ],
   "source": [
    "#necessary Python libraries\n",
    "from nltk.util import pr\n",
    "import pandas as pd\n",
    "import numpy as np\n",
    "from sklearn.feature_extraction.text import CountVectorizer\n",
    "from sklearn.model_selection import train_test_split\n",
    "from sklearn.tree import DecisionTreeClassifier\n",
    "import re\n",
    "import nltk\n",
    "stemmer = nltk.SnowballStemmer(\"english\")\n",
    "from nltk.corpus import stopwords\n",
    "import string\n",
    "stopword=set(stopwords.words('english'))\n",
    "data = pd.read_csv(\"hate_speech.csv\")\n",
    "print(data.head())"
   ]
  },
  {
   "cell_type": "markdown",
   "id": "98c28088",
   "metadata": {},
   "source": [
    "**Create Labels**\n",
    "[0-->Hate speech , 1-->Offensive Language , 2-->No Hate and Offensive]"
   ]
  },
  {
   "cell_type": "code",
   "execution_count": 11,
   "id": "f170e6a6",
   "metadata": {
    "scrolled": true
   },
   "outputs": [
    {
     "name": "stdout",
     "output_type": "stream",
     "text": [
      "   Unnamed: 0  count  hate_speech  offensive_language  neither  class  \\\n",
      "0           0      3            0                   0        3      2   \n",
      "1           1      3            0                   3        0      1   \n",
      "2           2      3            0                   3        0      1   \n",
      "3           3      3            0                   2        1      1   \n",
      "4           4      6            0                   6        0      1   \n",
      "\n",
      "                                               tweet  labels  \n",
      "0  !!! RT @mayasolovely: As a woman you shouldn't...       2  \n",
      "1  !!!!! RT @mleew17: boy dats cold...tyga dwn ba...       1  \n",
      "2  !!!!!!! RT @UrKindOfBrand Dawg!!!! RT @80sbaby...       1  \n",
      "3  !!!!!!!!! RT @C_G_Anderson: @viva_based she lo...       1  \n",
      "4  !!!!!!!!!!!!! RT @ShenikaRoberts: The shit you...       1  \n"
     ]
    }
   ],
   "source": [
    "data[\"labels\"] = data[\"class\"].map({0: 0, \n",
    "                                    1: 1, \n",
    "                                    2: 2})\n",
    "print(data.head())"
   ]
  },
  {
   "cell_type": "markdown",
   "id": "bcd93145",
   "metadata": {},
   "source": [
    "-->Selecting Tweets and Labels"
   ]
  },
  {
   "cell_type": "code",
   "execution_count": 12,
   "id": "e45953f5",
   "metadata": {},
   "outputs": [
    {
     "name": "stdout",
     "output_type": "stream",
     "text": [
      "                                               tweet  labels\n",
      "0  !!! RT @mayasolovely: As a woman you shouldn't...       2\n",
      "1  !!!!! RT @mleew17: boy dats cold...tyga dwn ba...       1\n",
      "2  !!!!!!! RT @UrKindOfBrand Dawg!!!! RT @80sbaby...       1\n",
      "3  !!!!!!!!! RT @C_G_Anderson: @viva_based she lo...       1\n",
      "4  !!!!!!!!!!!!! RT @ShenikaRoberts: The shit you...       1\n"
     ]
    }
   ],
   "source": [
    "data = data[[\"tweet\", \"labels\"]]\n",
    "print(data.head())"
   ]
  },
  {
   "cell_type": "markdown",
   "id": "91de3a3f",
   "metadata": {},
   "source": [
    "-->Refining text [removing puctuation, seperating words]"
   ]
  },
  {
   "cell_type": "code",
   "execution_count": 13,
   "id": "b8bd7c80",
   "metadata": {},
   "outputs": [],
   "source": [
    "def clean(text):\n",
    "    text = str(text).lower()\n",
    "    text = re.sub('\\[.*?\\]', '', text)\n",
    "    text = re.sub('https?://\\S+|www\\.\\S+', '', text)\n",
    "    text = re.sub('<.*?>+', '', text)\n",
    "    text = re.sub('[%s]' % re.escape(string.punctuation), '', text)\n",
    "    text = re.sub('\\n', '', text)\n",
    "    text = re.sub('\\w*\\d\\w*', '', text)\n",
    "    text = [word for word in text.split(' ') if word not in stopword]\n",
    "    text=\" \".join(text)\n",
    "    text = [stemmer.stem(word) for word in text.split(' ')]\n",
    "    text=\" \".join(text)\n",
    "    return text\n",
    "data[\"tweet\"] = data[\"tweet\"].apply(clean)"
   ]
  },
  {
   "cell_type": "markdown",
   "id": "34f2ec8e",
   "metadata": {},
   "source": [
    "**MODEL TRAINING** \n",
    "[split the dataset into training and test sets]"
   ]
  },
  {
   "cell_type": "code",
   "execution_count": 14,
   "id": "1a449d46",
   "metadata": {},
   "outputs": [
    {
     "data": {
      "text/plain": [
       "DecisionTreeClassifier()"
      ]
     },
     "execution_count": 14,
     "metadata": {},
     "output_type": "execute_result"
    }
   ],
   "source": [
    "x = np.array(data[\"tweet\"])\n",
    "y = np.array(data[\"labels\"])\n",
    "\n",
    "cv = CountVectorizer()\n",
    "X = cv.fit_transform(x) # Fit/Insert the Data\n",
    "X_train, X_test, y_train, y_test = train_test_split(X, y, test_size=0.33, random_state=42)\n",
    "\n",
    "clf = DecisionTreeClassifier()\n",
    "clf.fit(X_train,y_train)"
   ]
  },
  {
   "cell_type": "markdown",
   "id": "e09ce246",
   "metadata": {},
   "source": [
    "**TEST MODEL**"
   ]
  },
  {
   "cell_type": "code",
   "execution_count": 15,
   "id": "6a3a5964",
   "metadata": {},
   "outputs": [
    {
     "name": "stdout",
     "output_type": "stream",
     "text": [
      "Enter the Tweet: \n",
      "[2]\n"
     ]
    }
   ],
   "source": [
    "sample = input(\"Enter the Tweet: \")\n",
    "data = cv.transform([sample]).toarray()\n",
    "print(clf.predict(data))"
   ]
  },
  {
   "cell_type": "code",
   "execution_count": 17,
   "id": "8b5aa19c",
   "metadata": {},
   "outputs": [],
   "source": [
    "import tkinter as tk\n",
    "from tkinter import filedialog\n",
    "\n",
    "file_path = None\n",
    "\n",
    "def open_file():\n",
    "    global file_path\n",
    "    file_path = filedialog.askopenfilename(filetypes=[(\"Text Files\", \"*.txt\")])\n",
    "    if file_path:\n",
    "        with open(file_path, 'r') as file:\n",
    "            text = file.read()\n",
    "            text_box.delete('1.0', tk.END)  # Clear existing text\n",
    "            text_box.insert(tk.END, text)\n",
    "\n",
    "def save_file():\n",
    "    if file_path:\n",
    "        with open(file_path, 'w') as file:\n",
    "            file.write(text_box.get('1.0', tk.END))\n",
    "\n",
    "def check_text():\n",
    "    selected_text = \"\"\n",
    "    if file_path:\n",
    "        with open(file_path, 'r') as file:\n",
    "            selected_text = file.read()\n",
    "    else:\n",
    "        selected_text = text_box.get('1.0', tk.END)\n",
    "        \n",
    "    data = cv.transform([selected_text]).toarray()\n",
    "    data = data.reshape(1, -1)  # Reshape the data to 2D\n",
    "    prediction = clf.predict(data)\n",
    "    prediction_text.delete('1.0', tk.END)\n",
    "    prediction_text.insert(tk.END, str(prediction))\n",
    "\n",
    "# Create the main window\n",
    "window = tk.Tk()\n",
    "window.title(\"Text Reader\")\n",
    "\n",
    "# Create a text box to display and edit the text\n",
    "text_box = tk.Text(window, height=10, width=50)\n",
    "text_box.pack()\n",
    "\n",
    "# Create an \"Open\" button\n",
    "open_button = tk.Button(window, text=\"Open\", command=open_file)\n",
    "open_button.pack()\n",
    "\n",
    "# Create a \"Save\" button\n",
    "save_button = tk.Button(window, text=\"Save\", command=save_file)\n",
    "save_button.pack()\n",
    "\n",
    "# Create a \"Check\" button\n",
    "check_button = tk.Button(window, text=\"Check\", command=check_text)\n",
    "check_button.pack()\n",
    "\n",
    "# Create a text box to display the prediction result\n",
    "prediction_text = tk.Text(window, height=1, width=50)\n",
    "prediction_text.pack()\n",
    "\n",
    "# Start the GUI event loop\n",
    "window.mainloop()\n"
   ]
  },
  {
   "cell_type": "code",
   "execution_count": null,
   "id": "4b076f67",
   "metadata": {},
   "outputs": [],
   "source": []
  }
 ],
 "metadata": {
  "kernelspec": {
   "display_name": "Python 3 (ipykernel)",
   "language": "python",
   "name": "python3"
  },
  "language_info": {
   "codemirror_mode": {
    "name": "ipython",
    "version": 3
   },
   "file_extension": ".py",
   "mimetype": "text/x-python",
   "name": "python",
   "nbconvert_exporter": "python",
   "pygments_lexer": "ipython3",
   "version": "3.9.12"
  }
 },
 "nbformat": 4,
 "nbformat_minor": 5
}
